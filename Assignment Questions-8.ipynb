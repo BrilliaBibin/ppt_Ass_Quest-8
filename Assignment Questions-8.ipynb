{
 "cells": [
  {
   "cell_type": "markdown",
   "id": "7f1fbf1d",
   "metadata": {},
   "source": [
    "Question 1\n",
    "\n",
    "Given two strings s1 and s2, return *the lowest **ASCII** sum of deleted characters to make two strings equal*.\n",
    "\n",
    "**Example 1:**\n",
    "\n",
    "**Input:** s1 = \"sea\", s2 = \"eat\"\n",
    "\n",
    "**Output:** 231\n",
    "\n",
    "**Explanation:** Deleting \"s\" from \"sea\" adds the ASCII value of \"s\" (115) to the sum.\n",
    "\n",
    "Deleting \"t\" from \"eat\" adds 116 to the sum.\n",
    "\n",
    "At the end, both strings are equal, and 115 + 116 = 231 is the minimum sum possible to achieve this.\n"
   ]
  },
  {
   "cell_type": "code",
   "execution_count": 1,
   "id": "0f0ceb54",
   "metadata": {},
   "outputs": [],
   "source": [
    "class Solution:\n",
    "    def minimumDeleteSum(self, s1: str, s2: str) -> int:\n",
    "        n, m = len(s1), len(s2)\n",
    "        prev = [0] * (m+1)\n",
    "        cur = prev.copy()\n",
    "        for i in range(n):\n",
    "            for j in range(m):\n",
    "                if s1[i] == s2[j]: cur[j+1] = prev[j] + ord(s1[i])\n",
    "                else: cur[j+1] = max(cur[j], prev[j+1])\n",
    "            prev, cur = cur, prev\n",
    "        return sum(map(ord, s1+s2)) - 2 * prev[-1]"
   ]
  },
  {
   "cell_type": "code",
   "execution_count": 2,
   "id": "6180963e",
   "metadata": {},
   "outputs": [
    {
     "data": {
      "text/plain": [
       "231"
      ]
     },
     "execution_count": 2,
     "metadata": {},
     "output_type": "execute_result"
    }
   ],
   "source": [
    "s1 = \"sea\"\n",
    "s2 = \"eat\"\n",
    "Solution().minimumDeleteSum(s1,s2)"
   ]
  },
  {
   "cell_type": "markdown",
   "id": "e4c3e418",
   "metadata": {},
   "source": [
    "Question 2\n",
    "\n",
    "Given a string s containing only three types of characters: '(', ')' and '*', return true *if* s *is **valid***.\n",
    "\n",
    "The following rules define a **valid** string:\n",
    "\n",
    "- Any left parenthesis '(' must have a corresponding right parenthesis ')'.\n",
    "- Any right parenthesis ')' must have a corresponding left parenthesis '('.\n",
    "- Left parenthesis '(' must go before the corresponding right parenthesis ')'.\n",
    "- '*' could be treated as a single right parenthesis ')' or a single left parenthesis '(' or an empty string \"\".\n",
    "\n",
    "**Example 1:**\n",
    "\n",
    "**Input:** s = \"()\"\n",
    "\n",
    "**Output:**\n",
    "\n",
    "true"
   ]
  },
  {
   "cell_type": "code",
   "execution_count": 3,
   "id": "6de9f712",
   "metadata": {},
   "outputs": [],
   "source": [
    "class Solution:\n",
    "    def checkValidString(self, s: str) -> bool:\n",
    "        leftMin, leftMax = 0, 0\n",
    "\n",
    "        for c in s:\n",
    "            if c == \"(\":\n",
    "                leftMin += 1\n",
    "                leftMax += 1\n",
    "            elif c == \")\":\n",
    "                leftMin -= 1\n",
    "                leftMax -= 1\n",
    "            else:\n",
    "                leftMin -= 1\n",
    "                leftMax += 1\n",
    "            \n",
    "            if leftMax < 0:\n",
    "                return False\n",
    "            elif leftMin < 0:\n",
    "                leftMin = 0\n",
    "        \n",
    "        return leftMin == 0"
   ]
  },
  {
   "cell_type": "code",
   "execution_count": 4,
   "id": "03655aba",
   "metadata": {},
   "outputs": [
    {
     "data": {
      "text/plain": [
       "True"
      ]
     },
     "execution_count": 4,
     "metadata": {},
     "output_type": "execute_result"
    }
   ],
   "source": [
    "s = \"()\"\n",
    "Solution().checkValidString(s)"
   ]
  },
  {
   "cell_type": "markdown",
   "id": "5ba840ae",
   "metadata": {},
   "source": [
    "Question 3\n",
    "\n",
    "Given two strings word1 and word2, return *the minimum number of **steps** required to make* word1 *and* word2 *the same*.\n",
    "\n",
    "In one **step**, you can delete exactly one character in either string.\n",
    "\n",
    "**Example 1:**\n",
    "\n",
    "**Input:** word1 = \"sea\", word2 = \"eat\"\n",
    "\n",
    "**Output:** 2\n",
    "\n",
    "**Explanation:** You need one step to make \"sea\" to \"ea\" and another step to make \"eat\" to \"ea\".\n"
   ]
  },
  {
   "cell_type": "code",
   "execution_count": 7,
   "id": "a75259be",
   "metadata": {},
   "outputs": [],
   "source": [
    "class Solution:\n",
    "    def minDistance(self, word1: str, word2: str) -> int:\n",
    "        m=len(word1)\n",
    "        n=len(word2)\n",
    "        dp=[]\n",
    "        for i in range (m+1):\n",
    "            dp.append([0]*(n+1))\n",
    "        for i in range (m+1):\n",
    "            dp[i][0]=i\n",
    "        for i in range (n+1):\n",
    "            dp[0][i]=i\n",
    "        for i in range (1,m+1):\n",
    "            for j in range (1,n+1):\n",
    "                if word1[i-1]==word2[j-1]:\n",
    "                    dp[i][j]=dp[i-1][j-1]\n",
    "                else:\n",
    "                    dp[i][j]=min(dp[i][j-1],dp[i-1][j])+1\n",
    "        return dp[-1][-1]\n",
    "        "
   ]
  },
  {
   "cell_type": "code",
   "execution_count": 8,
   "id": "07d21e06",
   "metadata": {},
   "outputs": [
    {
     "data": {
      "text/plain": [
       "2"
      ]
     },
     "execution_count": 8,
     "metadata": {},
     "output_type": "execute_result"
    }
   ],
   "source": [
    "word1 = \"sea\"\n",
    "word2 = \"eat\"\n",
    "Solution().minDistance(word1,word2)"
   ]
  },
  {
   "cell_type": "markdown",
   "id": "6cd6a1e8",
   "metadata": {},
   "source": [
    "Question 4\n",
    "\n",
    "You need to construct a binary tree from a string consisting of parenthesis and integers.\n",
    "\n",
    "The whole input represents a binary tree. It contains an integer followed by zero, one or two pairs of parenthesis. The integer represents the root's value and a pair of parenthesis contains a child binary tree with the same structure.\n",
    "You always start to construct the **left** child node of the parent first if it exists.\n",
    "**Input:** s = \"4(2(3)(1))(6(5))\"\n",
    "\n",
    "**Output:** [4,2,6,3,1,5]"
   ]
  },
  {
   "cell_type": "code",
   "execution_count": 18,
   "id": "6e0f0dac",
   "metadata": {},
   "outputs": [
    {
     "name": "stdout",
     "output_type": "stream",
     "text": [
      "4 2 3 1 6 5 "
     ]
    }
   ],
   "source": [
    "class newNode:\n",
    "    def __init__(self, data):\n",
    "        self.data = data\n",
    "        self.left = self.right = None\n",
    " \n",
    " \n",
    "def preOrder(node):\n",
    "    if (node == None):\n",
    "        return\n",
    "    print(node.data, end=\" \")\n",
    "    preOrder(node.left)\n",
    "    preOrder(node.right)\n",
    " \n",
    " \n",
    "def treeFromStringHelper(si, ei, arr, root):\n",
    " \n",
    "    if si[0] >= ei:\n",
    "        return None\n",
    " \n",
    "    if arr[si[0]] == \"(\":\n",
    " \n",
    "        if arr[si[0]+1] != \")\":\n",
    "            if root.left is None:\n",
    "                if si[0] >= ei:\n",
    "                    return\n",
    "                new_root = newNode(arr[si[0]+1])\n",
    "                root.left = new_root\n",
    "                si[0] += 2\n",
    "                treeFromStringHelper(si, ei, arr, new_root)\n",
    " \n",
    "        else:\n",
    "            si[0] += 2\n",
    " \n",
    "        if root.right is None:\n",
    "            if si[0] >= ei:\n",
    "                return\n",
    " \n",
    "            if arr[si[0]] != \"(\":\n",
    "                si[0] += 1\n",
    "                return\n",
    " \n",
    "            new_root = newNode(arr[si[0]+1])\n",
    "            root.right = new_root\n",
    "            si[0] += 2\n",
    "            treeFromStringHelper(si, ei, arr, new_root)\n",
    "        else:\n",
    "            return\n",
    " \n",
    "    if arr[si[0]] == \")\":\n",
    "        if si[0] >= ei:\n",
    "            return\n",
    "        si[0] += 1\n",
    "        return\n",
    " \n",
    "    return\n",
    " \n",
    " \n",
    "def treeFromString(string):\n",
    " \n",
    "    root = newNode(string[0])\n",
    " \n",
    "    if len(string) > 1:\n",
    "        si = [1]\n",
    "        ei = len(string)-1\n",
    " \n",
    "        treeFromStringHelper(si, ei, string, root)\n",
    " \n",
    "    return root\n",
    " \n",
    "# Driver Code\n",
    "if __name__ == '__main__':\n",
    "    Str = \"4(2(3)(1))(6(5))\"\n",
    "    root = treeFromString(Str)\n",
    "    preOrder(root)\n",
    " "
   ]
  },
  {
   "cell_type": "markdown",
   "id": "37da52d1",
   "metadata": {},
   "source": [
    "Question 5\n",
    "\n",
    "Given an array of characters chars, compress it using the following algorithm:\n",
    "\n",
    "Begin with an empty string s. For each group of **consecutive repeating characters** in chars:\n",
    "\n",
    "- If the group's length is 1, append the character to s.\n",
    "- Otherwise, append the character followed by the group's length.\n",
    "\n",
    "The compressed string s **should not be returned separately**, but instead, be stored **in the input character array chars**. Note that group lengths that are 10 or longer will be split into multiple characters in chars.\n",
    "\n",
    "After you are done **modifying the input array,** return *the new length of the array*.\n",
    "\n",
    "You must write an algorithm that uses only constant extra space.\n",
    "\n",
    "**Example 1:**\n",
    "\n",
    "**Input:** chars = [\"a\",\"a\",\"b\",\"b\",\"c\",\"c\",\"c\"]\n",
    "\n",
    "**Output:** Return 6, and the first 6 characters of the input array should be: [\"a\",\"2\",\"b\",\"2\",\"c\",\"3\"]\n",
    "\n",
    "**Explanation:**\n",
    "\n",
    "The groups are \"aa\", \"bb\", and \"ccc\". This compresses to \"a2b2c3\".\n"
   ]
  },
  {
   "cell_type": "code",
   "execution_count": 20,
   "id": "b1076532",
   "metadata": {},
   "outputs": [],
   "source": [
    "class Solution:\n",
    "    def compress(self, array:[str]) -> int:\n",
    "        ans=[]\n",
    "        i=0\n",
    "        while i < len(array):\n",
    "            temp=array[i]\n",
    "            count=i+1\n",
    "            while count<len(array)and array[count]==temp:\n",
    "                count+=1\n",
    "                if count==len(array):\n",
    "                    break\n",
    "            ans.append(temp)\n",
    "            if count-i>1 and count-i<10:\n",
    "                ans.append(str(count-i))\n",
    "            if count-i>9:\n",
    "                num=count-i\n",
    "                dup=[]\n",
    "                while num:\n",
    "                    dup.append(str(num%10))\n",
    "                    num//=10\n",
    "                for j in range(len(dup)-1,-1,-1):\n",
    "                    ans.append(dup[j])\n",
    "            i=count\n",
    "        array.clear()\n",
    "        for i in range(len(ans)):\n",
    "            array.append(ans[i])\n",
    "        return len(ans)"
   ]
  },
  {
   "cell_type": "code",
   "execution_count": 21,
   "id": "ce21f5e8",
   "metadata": {},
   "outputs": [
    {
     "data": {
      "text/plain": [
       "6"
      ]
     },
     "execution_count": 21,
     "metadata": {},
     "output_type": "execute_result"
    }
   ],
   "source": [
    "chars = [\"a\",\"a\",\"b\",\"b\",\"c\",\"c\",\"c\"]\n",
    "Solution().compress(chars)"
   ]
  },
  {
   "cell_type": "markdown",
   "id": "25aee1fc",
   "metadata": {},
   "source": [
    "Question 6\n",
    "\n",
    "Given two strings s and p, return *an array of all the start indices of* p*'s anagrams in* s. You may return the answer in **any order**.\n",
    "\n",
    "An **Anagram** is a word or phrase formed by rearranging the letters of a different word or phrase, typically using all the original letters exactly once.\n",
    "\n",
    "**Example 1:**\n",
    "\n",
    "**Input:** s = \"cbaebabacd\", p = \"abc\"\n",
    "\n",
    "**Output:** [0,6]\n",
    "\n",
    "**Explanation:**\n",
    "\n",
    "The substring with start index = 0 is \"cba\", which is an anagram of \"abc\".\n",
    "\n",
    "The substring with start index = 6 is \"bac\", which is an anagram of \"abc\".\n"
   ]
  },
  {
   "cell_type": "code",
   "execution_count": 22,
   "id": "38b026b6",
   "metadata": {},
   "outputs": [],
   "source": [
    "class Solution:\n",
    "    def findAnagrams(self, s: str, p: str) ->[int]:\n",
    "        window = len(p)\n",
    "        mapper = {}\n",
    "        def __mapper():\n",
    "            nonlocal mapper\n",
    "            for i in p:\n",
    "                if i in mapper.keys(): mapper[i] += 1\n",
    "                else: mapper[i] = 1\n",
    "        __mapper()\n",
    "        ans = []\n",
    "        st = 0\n",
    "        ed = 0\n",
    "        while ed < len(s):\n",
    "            if s[ed] in mapper.keys():\n",
    "                mapper[s[ed]] -= 1\n",
    "                if mapper[s[ed]] == 0:\n",
    "                    del mapper[s[ed]]\n",
    "                if not bool(mapper):\n",
    "                    ans.append(st)\n",
    "                    mapper[s[st]] = 1\n",
    "                    st += 1\n",
    "                ed += 1\n",
    "            else:\n",
    "                if st == ed:\n",
    "                    st = ed = ed + 1\n",
    "                else:\n",
    "                    if s[st] in mapper.keys():\n",
    "                        mapper[s[st]] += 1\n",
    "                    else:\n",
    "                        mapper[s[st]] = 1\n",
    "                    st += 1\n",
    "        return ans           "
   ]
  },
  {
   "cell_type": "code",
   "execution_count": 23,
   "id": "c69ab420",
   "metadata": {},
   "outputs": [
    {
     "data": {
      "text/plain": [
       "[0, 6]"
      ]
     },
     "execution_count": 23,
     "metadata": {},
     "output_type": "execute_result"
    }
   ],
   "source": [
    "s = \"cbaebabacd\"\n",
    "p = \"abc\"\n",
    "Solution().findAnagrams(s,p)"
   ]
  },
  {
   "cell_type": "markdown",
   "id": "aafe4805",
   "metadata": {},
   "source": [
    "Question 7\n",
    "\n",
    "Given an encoded string, return its decoded string.\n",
    "\n",
    "The encoding rule is: k[encoded_string], where the encoded_string inside the square brackets is being repeated exactly k times. Note that k is guaranteed to be a positive integer.\n",
    "\n",
    "You may assume that the input string is always valid; there are no extra white spaces, square brackets are well-formed, etc. Furthermore, you may assume that the original data does not contain any digits and that digits are only for those repeat numbers, k. For example, there will not be input like 3a or 2[4].\n",
    "\n",
    "The test cases are generated so that the length of the output will never exceed 105.\n",
    "\n",
    "**Example 1:**\n",
    "\n",
    "**Input:** s = \"3[a]2[bc]\"\n",
    "\n",
    "**Output:** \"aaabcbc\"\n"
   ]
  },
  {
   "cell_type": "code",
   "execution_count": 24,
   "id": "f027325d",
   "metadata": {},
   "outputs": [],
   "source": [
    "class Solution:\n",
    "    def decodeString(self, s: str) -> str:\n",
    "        st = []\n",
    "        num = 0\n",
    "        res = ''\n",
    "\n",
    "        for ch in s:\n",
    "            if ch.isnumeric():\n",
    "                num = num * 10 + int(ch)\n",
    "            elif ch == '[':\n",
    "                st.append(res)\n",
    "                st.append(num)\n",
    "                res = ''\n",
    "                num = 0\n",
    "            elif ch == ']':\n",
    "                cnt = st.pop()\n",
    "                prev = st.pop()\n",
    "                res = prev + cnt * res\n",
    "            else:\n",
    "                res += ch\n",
    "        return res"
   ]
  },
  {
   "cell_type": "code",
   "execution_count": 25,
   "id": "3df608ae",
   "metadata": {},
   "outputs": [
    {
     "data": {
      "text/plain": [
       "'aaabcbc'"
      ]
     },
     "execution_count": 25,
     "metadata": {},
     "output_type": "execute_result"
    }
   ],
   "source": [
    "s = \"3[a]2[bc]\"\n",
    "Solution().decodeString(s)"
   ]
  },
  {
   "cell_type": "markdown",
   "id": "9fb37846",
   "metadata": {},
   "source": [
    "Question 8\n",
    "\n",
    "Given two strings s and goal, return true *if you can swap two letters in* s *so the result is equal to* goal*, otherwise, return* false*.*\n",
    "\n",
    "Swapping letters is defined as taking two indices i and j (0-indexed) such that i != j and swapping the characters at s[i] and s[j].\n",
    "\n",
    "- For example, swapping at indices 0 and 2 in \"abcd\" results in \"cbad\".\n",
    "\n",
    "**Example 1:**\n",
    "\n",
    "**Input:** s = \"ab\", goal = \"ba\"\n",
    "\n",
    "**Output:** true\n",
    "\n",
    "**Explanation:** You can swap s[0] = 'a' and s[1] = 'b' to get \"ba\", which is equal to goal.\n"
   ]
  },
  {
   "cell_type": "code",
   "execution_count": 27,
   "id": "b897f7f6",
   "metadata": {},
   "outputs": [],
   "source": [
    "class Solution:\n",
    "    def Strings(self, s: str, goal: str) -> bool:\n",
    "        \n",
    "        if len(s) != len(goal):\n",
    "            return False\n",
    "        if s == goal:\n",
    "            return len(set(s)) < len(s)\n",
    "        diffs = []\n",
    "        for i in range(len(s)):\n",
    "            if s[i] != goal[i]:\n",
    "                diffs.append((s[i], goal[i]))\n",
    "        return len(diffs) == 2 and diffs[0] == diffs[1][::-1]"
   ]
  },
  {
   "cell_type": "code",
   "execution_count": 29,
   "id": "c1a49365",
   "metadata": {},
   "outputs": [
    {
     "data": {
      "text/plain": [
       "True"
      ]
     },
     "execution_count": 29,
     "metadata": {},
     "output_type": "execute_result"
    }
   ],
   "source": [
    "s = \"ab\"\n",
    "goal = \"ba\"\n",
    "Solution().Strings(s,goal)"
   ]
  }
 ],
 "metadata": {
  "kernelspec": {
   "display_name": "Python 3 (ipykernel)",
   "language": "python",
   "name": "python3"
  },
  "language_info": {
   "codemirror_mode": {
    "name": "ipython",
    "version": 3
   },
   "file_extension": ".py",
   "mimetype": "text/x-python",
   "name": "python",
   "nbconvert_exporter": "python",
   "pygments_lexer": "ipython3",
   "version": "3.9.12"
  }
 },
 "nbformat": 4,
 "nbformat_minor": 5
}
